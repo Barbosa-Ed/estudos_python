{
 "cells": [
  {
   "cell_type": "markdown",
   "id": "c7b60a67",
   "metadata": {},
   "source": [
    "# Criação e acesso\n",
    "\n",
    "Um dicionário é um conjunto não-ordenado de pares **chave:valor**, onde as chaves são únicas em uma dada instância do dicionário. Os dicionários são delimitados por chaves: **{ }**, e contém uma lista de pares **chave:valor** separados por vírgula."
   ]
  },
  {
   "cell_type": "code",
   "execution_count": 1,
   "id": "d1ea243a",
   "metadata": {},
   "outputs": [
    {
     "name": "stdout",
     "output_type": "stream",
     "text": [
      "{'nome': 'Guilherme', 'idade': 28}\n",
      "{'nome': 'Guilherme', 'idade': 28}\n",
      "{'nome': 'Guilherme', 'idade': 28, 'telefone': '3333-1234'}\n"
     ]
    }
   ],
   "source": [
    "pessoa = {\"nome\": \"Guilherme\", \"idade\": 28}\n",
    "print(pessoa)\n",
    "\n",
    "pessoa = dict(nome=\"Guilherme\", idade=28) #construtor dict()\n",
    "print(pessoa)\n",
    "\n",
    "pessoa[\"telefone\"] = \"3333-1234\"  # {\"nome\": \"Guilherme\", \"idade\": 28, \"telefone\": \"3333-1234\"}\n",
    "print(pessoa)"
   ]
  },
  {
   "cell_type": "markdown",
   "id": "4e484f73",
   "metadata": {},
   "source": [
    "## Acesso aos dados\n",
    "\n",
    "Os dados são acessados e modificados através da chave."
   ]
  },
  {
   "cell_type": "code",
   "execution_count": 2,
   "id": "98d2d2ce",
   "metadata": {},
   "outputs": [
    {
     "name": "stdout",
     "output_type": "stream",
     "text": [
      "Guilherme\n",
      "28\n",
      "3333-1234\n",
      "{'nome': 'Maria', 'idade': 18, 'telefone': '9988-1781'}\n"
     ]
    }
   ],
   "source": [
    "dados = {\"nome\": \"Guilherme\", \"idade\": 28, \"telefone\": \"3333-1234\"}\n",
    "\n",
    "print(dados[\"nome\"])  # \"Guilherme\"\n",
    "print(dados[\"idade\"])  # 28\n",
    "print(dados[\"telefone\"])  # \"3333-1234\"\n",
    "\n",
    "dados[\"nome\"] = \"Maria\"\n",
    "dados[\"idade\"] = 18\n",
    "dados[\"telefone\"] = \"9988-1781\"\n",
    "\n",
    "print(dados)  # {\"nome\": \"Maria\", \"idade\": 18, \"telefone\": \"9988-1781\"}"
   ]
  },
  {
   "cell_type": "markdown",
   "id": "9abcd51f",
   "metadata": {},
   "source": [
    "## Dicionários aninhados\n",
    "\n",
    "Dicionários podem armazenar qualquer tipo de objeto Python como valor, desde que a chave para esse valor seja um objeto imutável, como strings e números."
   ]
  },
  {
   "cell_type": "code",
   "execution_count": 3,
   "id": "2826ef08",
   "metadata": {},
   "outputs": [
    {
     "name": "stdout",
     "output_type": "stream",
     "text": [
      "3443-2121\n"
     ]
    }
   ],
   "source": [
    "contatos = {\n",
    "    \"guilherme@gmail.com\": {\"nome\": \"Guilherme\", \"telefone\": \"3333-2221\"},\n",
    "    \"giovanna@gmail.com\": {\"nome\": \"Giovanna\", \"telefone\": \"3443-2121\"},\n",
    "    \"chappie@gmail.com\": {\"nome\": \"Chappie\", \"telefone\": \"3344-9871\"},\n",
    "    \"melaine@gmail.com\": {\"nome\": \"Melaine\", \"telefone\": \"3333-7766\"},\n",
    "}\n",
    "\n",
    "telefone = contatos[\"giovanna@gmail.com\"][\"telefone\"]  # \"3443-2121\"\n",
    "print(telefone)"
   ]
  },
  {
   "cell_type": "markdown",
   "id": "e6ec9ba2",
   "metadata": {},
   "source": [
    "## Iterar dicionários\n",
    "\n",
    "A forma mais comum para percorrer os dados de um dicionário é utilizando o comando **for**."
   ]
  },
  {
   "cell_type": "code",
   "execution_count": 4,
   "id": "ba69601f",
   "metadata": {},
   "outputs": [
    {
     "name": "stdout",
     "output_type": "stream",
     "text": [
      "guilherme@gmail.com {'nome': 'Guilherme', 'telefone': '3333-2221'}\n",
      "giovanna@gmail.com {'nome': 'Giovanna', 'telefone': '3443-2121'}\n",
      "chappie@gmail.com {'nome': 'Chappie', 'telefone': '3344-9871'}\n",
      "melaine@gmail.com {'nome': 'Melaine', 'telefone': '3333-7766'}\n",
      "====================================================================================================\n",
      "guilherme@gmail.com {'nome': 'Guilherme', 'telefone': '3333-2221'}\n",
      "giovanna@gmail.com {'nome': 'Giovanna', 'telefone': '3443-2121'}\n",
      "chappie@gmail.com {'nome': 'Chappie', 'telefone': '3344-9871'}\n",
      "melaine@gmail.com {'nome': 'Melaine', 'telefone': '3333-7766'}\n"
     ]
    }
   ],
   "source": [
    "contatos = {\n",
    "    \"guilherme@gmail.com\": {\"nome\": \"Guilherme\", \"telefone\": \"3333-2221\"},\n",
    "    \"giovanna@gmail.com\": {\"nome\": \"Giovanna\", \"telefone\": \"3443-2121\"},\n",
    "    \"chappie@gmail.com\": {\"nome\": \"Chappie\", \"telefone\": \"3344-9871\"},\n",
    "    \"melaine@gmail.com\": {\"nome\": \"Melaine\", \"telefone\": \"3333-7766\"},\n",
    "}\n",
    "\n",
    "for chave in contatos:\n",
    "    print(chave, contatos[chave])\n",
    "\n",
    "print(\"=\" * 100)\n",
    "\n",
    "for chave, valor in contatos.items():\n",
    "    print(chave, valor)"
   ]
  },
  {
   "cell_type": "markdown",
   "id": "91da58dc",
   "metadata": {},
   "source": [
    "# Métodos da classe dict\n",
    "\n",
    "## {}.clear()\n",
    "\n",
    "Limpa o dicionário"
   ]
  },
  {
   "cell_type": "code",
   "execution_count": 5,
   "id": "523ef1df",
   "metadata": {},
   "outputs": [
    {
     "name": "stdout",
     "output_type": "stream",
     "text": [
      "{}\n"
     ]
    }
   ],
   "source": [
    "contatos = {\n",
    "    \"guilherme@gmail.com\": {\"nome\": \"Guilherme\", \"telefone\": \"3333-2221\"},\n",
    "    \"giovanna@gmail.com\": {\"nome\": \"Giovanna\", \"telefone\": \"3443-2121\"},\n",
    "    \"chappie@gmail.com\": {\"nome\": \"Chappie\", \"telefone\": \"3344-9871\"},\n",
    "    \"melaine@gmail.com\": {\"nome\": \"Melaine\", \"telefone\": \"3333-7766\"},\n",
    "}\n",
    "\n",
    "contatos.clear()\n",
    "print(contatos)  # {}"
   ]
  },
  {
   "cell_type": "markdown",
   "id": "d7595dd4",
   "metadata": {},
   "source": [
    "## {}.copy()\n",
    "\n",
    "Cria uma cópia do dicionário"
   ]
  },
  {
   "cell_type": "code",
   "execution_count": 6,
   "id": "b09de16a",
   "metadata": {},
   "outputs": [
    {
     "name": "stdout",
     "output_type": "stream",
     "text": [
      "{'nome': 'Guilherme', 'telefone': '3333-2221'}\n",
      "{'nome': 'Gui'}\n"
     ]
    }
   ],
   "source": [
    "contatos = {\"guilherme@gmail.com\": {\"nome\": \"Guilherme\", \"telefone\": \"3333-2221\"}}\n",
    "\n",
    "copia = contatos.copy()\n",
    "copia[\"guilherme@gmail.com\"] = {\"nome\": \"Gui\"}\n",
    "\n",
    "print(contatos[\"guilherme@gmail.com\"])  # {\"nome\": \"Guilherme\", \"telefone\": \"3333-2221\"}\n",
    "\n",
    "print(copia[\"guilherme@gmail.com\"])  # {\"nome\": \"Gui\"}"
   ]
  },
  {
   "cell_type": "markdown",
   "id": "f7080fa0",
   "metadata": {},
   "source": [
    "## {}.fromkeys()\n",
    "\n",
    "Cria chaves no seu dicionário"
   ]
  },
  {
   "cell_type": "code",
   "execution_count": 7,
   "id": "c9c07d7e",
   "metadata": {},
   "outputs": [
    {
     "name": "stdout",
     "output_type": "stream",
     "text": [
      "{'nome': None, 'telefone': None}\n",
      "{'nome': 'vazio', 'telefone': 'vazio'}\n"
     ]
    }
   ],
   "source": [
    "resultado = dict.fromkeys([\"nome\", \"telefone\"])  # {\"nome\": None, \"telefone\": None}\n",
    "print(resultado)\n",
    "\n",
    "resultado = dict.fromkeys([\"nome\", \"telefone\"], \"vazio\")  # {\"nome\": \"vazio\", \"telefone\": \"vazio\"}\n",
    "print(resultado)                             #   ^^^^^ Esse é o valor padrão dado para as chaves"
   ]
  },
  {
   "cell_type": "markdown",
   "id": "d90ecd2f",
   "metadata": {},
   "source": [
    "## {}.get()\n",
    "\n",
    "É uma segunda forma de acessar informação no dicionário"
   ]
  },
  {
   "cell_type": "code",
   "execution_count": 8,
   "id": "f406e57c",
   "metadata": {},
   "outputs": [
    {
     "name": "stdout",
     "output_type": "stream",
     "text": [
      "None\n",
      "{}\n",
      "{'nome': 'Guilherme', 'telefone': '3333-2221'}\n"
     ]
    }
   ],
   "source": [
    "contatos = {\"guilherme@gmail.com\": {\"nome\": \"Guilherme\", \"telefone\": \"3333-2221\"}}\n",
    "\n",
    "# contatos[\"chave\"]  # KeyError\n",
    "\n",
    "resultado = contatos.get(\"chave\")  # None\n",
    "print(resultado) #                   ^^^^ Não dá erro\n",
    "\n",
    "resultado = contatos.get(\"chave\", {})  # {}\n",
    "print(resultado) #                ^^ Valor padrão caso não encontre a chave\n",
    "\n",
    "resultado = contatos.get(\n",
    "    \"guilherme@gmail.com\", {}\n",
    ")  # {\"guilherme@gmail.com\": {\"nome\": \"Guilherme\", \"telefone\": \"3333-2221\"}\n",
    "print(resultado)"
   ]
  },
  {
   "cell_type": "markdown",
   "id": "3fa11ea0",
   "metadata": {},
   "source": [
    "## {}.items()\n",
    "\n",
    "Retorna uma lista de tuplas com as chaves e os valores"
   ]
  },
  {
   "cell_type": "code",
   "execution_count": 27,
   "id": "5bb0cf9b",
   "metadata": {},
   "outputs": [
    {
     "name": "stdout",
     "output_type": "stream",
     "text": [
      "dict_items([('guilherme@gmail.com', {'nome': 'Guilherme', 'telefone': '3333-2221'})])\n"
     ]
    }
   ],
   "source": [
    "contatos = {\"guilherme@gmail.com\": {\"nome\": \"Guilherme\", \"telefone\": \"3333-2221\"}}\n",
    "\n",
    "resultado = contatos.items()  # dict_items([('guilherme@gmail.com', {'nome': 'Guilherme', 'telefone': '3333-2221'})])\n",
    "print(resultado)"
   ]
  },
  {
   "cell_type": "markdown",
   "id": "eb369c0f",
   "metadata": {},
   "source": [
    "## {}.keys()\n",
    "\n",
    "Retorna somente as chaves do dicionário"
   ]
  },
  {
   "cell_type": "code",
   "execution_count": 28,
   "id": "75415c03",
   "metadata": {},
   "outputs": [
    {
     "name": "stdout",
     "output_type": "stream",
     "text": [
      "dict_keys(['guilherme@gmail.com', 'ednaldo@gmail.com'])\n"
     ]
    }
   ],
   "source": [
    "contatos = {\n",
    "    \"guilherme@gmail.com\": {\"nome\": \"Guilherme\", \"telefone\": \"3333-2221\"},\n",
    "    \"ednaldo@gmail.com\": {\"nome\": \"Ed\"}\n",
    "    }\n",
    "\n",
    "resultado = contatos.keys()  # dict_keys(['guilherme@gmail.com'])\n",
    "print(resultado)"
   ]
  },
  {
   "cell_type": "markdown",
   "id": "fca87054",
   "metadata": {},
   "source": [
    "## {}.pop()\n",
    "\n",
    "Remove uma chave do seu dicionário"
   ]
  },
  {
   "cell_type": "code",
   "execution_count": 11,
   "id": "23b8a683",
   "metadata": {},
   "outputs": [
    {
     "name": "stdout",
     "output_type": "stream",
     "text": [
      "{'nome': 'Guilherme', 'telefone': '3333-2221'}\n",
      "{}\n"
     ]
    }
   ],
   "source": [
    "contatos = {\"guilherme@gmail.com\": {\"nome\": \"Guilherme\", \"telefone\": \"3333-2221\"}}\n",
    "\n",
    "resultado = contatos.pop(\"guilherme@gmail.com\")  # {'nome': 'Guilherme', 'telefone': '3333-2221'}\n",
    "print(resultado)\n",
    "\n",
    "resultado = contatos.pop(\"guilherme@gmail.com\", {})  # {}\n",
    "print(resultado) #                              ^^ Valor padrão caso não haja essa chave"
   ]
  },
  {
   "cell_type": "markdown",
   "id": "84ae4de3",
   "metadata": {},
   "source": [
    "## {}.popitem()\n",
    "\n",
    "Retira os itens em sequência, não é informada a chave"
   ]
  },
  {
   "cell_type": "code",
   "execution_count": 12,
   "id": "897258e3",
   "metadata": {},
   "outputs": [
    {
     "name": "stdout",
     "output_type": "stream",
     "text": [
      "('guilherme@gmail.com', {'nome': 'Guilherme', 'telefone': '3333-2221'})\n"
     ]
    }
   ],
   "source": [
    "contatos = {\"guilherme@gmail.com\": {\"nome\": \"Guilherme\", \"telefone\": \"3333-2221\"}}\n",
    "\n",
    "resultado = contatos.popitem()  # ('guilherme@gmail.com', {'nome': 'Guilherme', 'telefone': '3333-2221'})\n",
    "print(resultado)\n",
    "\n",
    "# contatos.popitem()  # KeyError"
   ]
  },
  {
   "cell_type": "markdown",
   "id": "85508ffb",
   "metadata": {},
   "source": [
    "## {}.setdefault()\n",
    "\n",
    "Se a chave não estiver no dicionário, ela é adicionada com o valor passado"
   ]
  },
  {
   "cell_type": "code",
   "execution_count": 13,
   "id": "f9bdf276",
   "metadata": {},
   "outputs": [
    {
     "name": "stdout",
     "output_type": "stream",
     "text": [
      "{'nome': 'Guilherme', 'telefone': '3333-2221'}\n",
      "{'nome': 'Guilherme', 'telefone': '3333-2221', 'idade': 28}\n"
     ]
    }
   ],
   "source": [
    "contato = {\"nome\": \"Guilherme\", \"telefone\": \"3333-2221\"}\n",
    "\n",
    "contato.setdefault(\"nome\", \"Giovanna\")  # \"Guilherme\"\n",
    "print(contato)  # {'nome': 'Guilherme', 'telefone': '3333-2221'}\n",
    "\n",
    "contato.setdefault(\"idade\", 28)  # 28\n",
    "print(contato)  # {'nome': 'Guilherme', 'telefone': '3333-2221', 'idade': 28}"
   ]
  },
  {
   "cell_type": "markdown",
   "id": "0dfa4ec5",
   "metadata": {},
   "source": [
    "## {}.update()\n",
    "\n",
    "Permite a atualização do dicionário com outro dicionário"
   ]
  },
  {
   "cell_type": "code",
   "execution_count": 14,
   "id": "a6175dd6",
   "metadata": {},
   "outputs": [
    {
     "name": "stdout",
     "output_type": "stream",
     "text": [
      "{'guilherme@gmail.com': {'nome': 'Gui'}}\n",
      "{'guilherme@gmail.com': {'nome': 'Gui'}, 'giovanna@gmail.com': {'nome': 'Giovanna', 'telefone': '3322-8181'}}\n"
     ]
    }
   ],
   "source": [
    "contatos = {\"guilherme@gmail.com\": {\"nome\": \"Guilherme\", \"telefone\": \"3333-2221\"}}\n",
    "\n",
    "contatos.update({\"guilherme@gmail.com\": {\"nome\": \"Gui\"}})\n",
    "print(contatos)  # {'guilherme@gmail.com': {'nome': 'Gui'}}\n",
    "\n",
    "contatos.update({\"giovanna@gmail.com\": {\"nome\": \"Giovanna\", \"telefone\": \"3322-8181\"}})\n",
    "# {'guilherme@gmail.com': {'nome': 'Gui'}, 'giovanna@gmail.com': {'nome': 'Giovanna', 'telefone': '3322-8181'}}\n",
    "print(contatos)"
   ]
  },
  {
   "cell_type": "markdown",
   "id": "337e7777",
   "metadata": {},
   "source": [
    "## {}.values()\n",
    "\n",
    "Retorna somente os valores, sem passar suas respectivas chaves"
   ]
  },
  {
   "cell_type": "code",
   "execution_count": 15,
   "id": "29e6f935",
   "metadata": {},
   "outputs": [
    {
     "name": "stdout",
     "output_type": "stream",
     "text": [
      "dict_values([{'nome': 'Guilherme', 'telefone': '3333-2221'}, {'nome': 'Giovanna', 'telefone': '3443-2121'}, {'nome': 'Chappie', 'telefone': '3344-9871'}, {'nome': 'Melaine', 'telefone': '3333-7766'}])\n"
     ]
    }
   ],
   "source": [
    "contatos = {\n",
    "    \"guilherme@gmail.com\": {\"nome\": \"Guilherme\", \"telefone\": \"3333-2221\"},\n",
    "    \"giovanna@gmail.com\": {\"nome\": \"Giovanna\", \"telefone\": \"3443-2121\"},\n",
    "    \"chappie@gmail.com\": {\"nome\": \"Chappie\", \"telefone\": \"3344-9871\"},\n",
    "    \"melaine@gmail.com\": {\"nome\": \"Melaine\", \"telefone\": \"3333-7766\"},\n",
    "}\n",
    "\n",
    "resultado = (\n",
    "    contatos.values()\n",
    ")  # dict_values([{'nome': 'Guilherme', 'telefone': '3333-2221'}, {'nome': 'Giovanna', 'telefone': '3443-2121'}, {'nome': 'Chappie', 'telefone': '3344-9871'}, {'nome': 'Melaine', 'telefone': '3333-7766'}])  # noqa\n",
    "print(resultado)"
   ]
  },
  {
   "cell_type": "markdown",
   "id": "7ab4e1a2",
   "metadata": {},
   "source": [
    "## in\n",
    "\n",
    "Uma forma “elegante” de saber se uma chave existe ou não dentro do dicionário"
   ]
  },
  {
   "cell_type": "code",
   "execution_count": 16,
   "id": "2e4e2d40",
   "metadata": {},
   "outputs": [
    {
     "name": "stdout",
     "output_type": "stream",
     "text": [
      "True\n",
      "False\n",
      "False\n",
      "True\n"
     ]
    }
   ],
   "source": [
    "contatos = {\n",
    "    \"guilherme@gmail.com\": {\"nome\": \"Guilherme\", \"telefone\": \"3333-2221\"},\n",
    "    \"giovanna@gmail.com\": {\"nome\": \"Giovanna\", \"telefone\": \"3443-2121\"},\n",
    "    \"chappie@gmail.com\": {\"nome\": \"Chappie\", \"telefone\": \"3344-9871\"},\n",
    "    \"melaine@gmail.com\": {\"nome\": \"Melaine\", \"telefone\": \"3333-7766\"},\n",
    "}\n",
    "\n",
    "resultado = \"guilherme@gmail.com\" in contatos  # True\n",
    "print(resultado)\n",
    "\n",
    "resultado = \"megui@gmail.com\" in contatos  # False\n",
    "print(resultado)\n",
    "\n",
    "resultado = \"idade\" in contatos[\"guilherme@gmail.com\"]  # False\n",
    "print(resultado)\n",
    "\n",
    "resultado = \"telefone\" in contatos[\"giovanna@gmail.com\"]  # True\n",
    "print(resultado)"
   ]
  },
  {
   "cell_type": "markdown",
   "id": "b37775b2",
   "metadata": {},
   "source": [
    "## del\n",
    "\n",
    "Remove um determinado objeto de um dicionário"
   ]
  },
  {
   "cell_type": "code",
   "execution_count": 17,
   "id": "8a18bab5",
   "metadata": {},
   "outputs": [
    {
     "name": "stdout",
     "output_type": "stream",
     "text": [
      "{'guilherme@gmail.com': {'nome': 'Guilherme'}, 'giovanna@gmail.com': {'nome': 'Giovanna', 'telefone': '3443-2121'}, 'melaine@gmail.com': {'nome': 'Melaine', 'telefone': '3333-7766'}}\n"
     ]
    }
   ],
   "source": [
    "contatos = {\n",
    "    \"guilherme@gmail.com\": {\"nome\": \"Guilherme\", \"telefone\": \"3333-2221\"},\n",
    "    \"giovanna@gmail.com\": {\"nome\": \"Giovanna\", \"telefone\": \"3443-2121\"},\n",
    "    \"chappie@gmail.com\": {\"nome\": \"Chappie\", \"telefone\": \"3344-9871\"},\n",
    "    \"melaine@gmail.com\": {\"nome\": \"Melaine\", \"telefone\": \"3333-7766\"},\n",
    "}\n",
    "\n",
    "del contatos[\"guilherme@gmail.com\"][\"telefone\"]\n",
    "del contatos[\"chappie@gmail.com\"]\n",
    "\n",
    "# {'guilherme@gmail.com': {'nome': 'Guilherme'}, 'giovanna@gmail.com': {'nome': 'Giovanna', 'telefone': '3443-2121'}, 'melaine@gmail.com': {'nome': 'Melaine', 'telefone': '3333-7766'}}  # noqa\n",
    "print(contatos)"
   ]
  }
 ],
 "metadata": {
  "kernelspec": {
   "display_name": "Python 3",
   "language": "python",
   "name": "python3"
  },
  "language_info": {
   "codemirror_mode": {
    "name": "ipython",
    "version": 3
   },
   "file_extension": ".py",
   "mimetype": "text/x-python",
   "name": "python",
   "nbconvert_exporter": "python",
   "pygments_lexer": "ipython3",
   "version": "3.13.7"
  }
 },
 "nbformat": 4,
 "nbformat_minor": 5
}
