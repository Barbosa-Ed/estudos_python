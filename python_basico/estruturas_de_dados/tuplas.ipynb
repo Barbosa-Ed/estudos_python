{
 "cells": [
  {
   "cell_type": "markdown",
   "id": "6b737c64",
   "metadata": {},
   "source": [
    "# Criação e acesso aos dados da Tupla\n",
    "\n",
    "Tuplas são estruturas de dados muito parecidas com as listas, a principal diferença é que tuplas são imputáveis enquanto as listas são mutáveis. Podeos criar tuplas através da classe *tuple*, ou colocando valores separados por vírgulas de parênteses."
   ]
  },
  {
   "cell_type": "code",
   "execution_count": 9,
   "id": "208bbd41",
   "metadata": {},
   "outputs": [],
   "source": [
    "frutas = (\"laranja\", \"pera\", \"uva\",)\n",
    "\n",
    "letras = tuple(\"python\")\n",
    "\n",
    "numeros = tuple([1, 2, 3, 4])\n",
    "\n",
    "pais = (\"Brasil\",)"
   ]
  },
  {
   "cell_type": "markdown",
   "id": "3395c61c",
   "metadata": {},
   "source": [
    "## Acesso direto\n",
    "\n",
    "A tupla é uma seqência, portanto podemos acessar seus dados utilizando índices. Contamos o índice de determinada sequência a partir do zero."
   ]
  },
  {
   "cell_type": "code",
   "execution_count": 10,
   "id": "c50df492",
   "metadata": {},
   "outputs": [
    {
     "data": {
      "text/plain": [
       "'uva'"
      ]
     },
     "execution_count": 10,
     "metadata": {},
     "output_type": "execute_result"
    }
   ],
   "source": [
    "frutas = (\"laranja\", \"pera\", \"uva\",)\n",
    "frutas[0]\n",
    "frutas[2]"
   ]
  },
  {
   "cell_type": "markdown",
   "id": "db9abffe",
   "metadata": {},
   "source": [
    "## Índices negativos\n",
    "\n",
    "Sequências suportam indexação negativa. A contagem começa em -1."
   ]
  },
  {
   "cell_type": "code",
   "execution_count": 11,
   "id": "e1eb4898",
   "metadata": {},
   "outputs": [
    {
     "data": {
      "text/plain": [
       "'laranja'"
      ]
     },
     "execution_count": 11,
     "metadata": {},
     "output_type": "execute_result"
    }
   ],
   "source": [
    "frutas = (\"laranja\", \"pera\", \"uva\",)\n",
    "frutas[-1]\n",
    "frutas[-3]"
   ]
  },
  {
   "cell_type": "markdown",
   "id": "919909db",
   "metadata": {},
   "source": [
    "## Tuplas aninhadas\n",
    "\n",
    "Tuplas podem armazenar todos os tipos de objetos Python, portanto podemos ter tuplas que armazenam outras tuplas. Com isso podemos criar estruturas bidimensionais (tabelas), e acessar informando os índices de linha e coluna."
   ]
  },
  {
   "cell_type": "code",
   "execution_count": 12,
   "id": "fc7fb9e4",
   "metadata": {},
   "outputs": [
    {
     "data": {
      "text/plain": [
       "'c'"
      ]
     },
     "execution_count": 12,
     "metadata": {},
     "output_type": "execute_result"
    }
   ],
   "source": [
    "matriz = (\n",
    "    (1, 'a', 2),\n",
    "    ('b', 3, 4),\n",
    "    (6, 5, 'c')\n",
    ")\n",
    "\n",
    "matriz[0] # (1, 'a', 2)\n",
    "matriz[0][0] # 1\n",
    "matriz[0][-1] # 2\n",
    "matriz[-1][-1] # 'c'"
   ]
  },
  {
   "cell_type": "markdown",
   "id": "9d9118c8",
   "metadata": {},
   "source": [
    "## Fatiamento\n",
    "\n",
    "Além de acessar elementos diretamente, podemos extrair um conjunto de valores de uma sequência. Para isso basta passar o índice inicial e/ou final para acessar o conjunto. Podemos ainda informar quantas posições o cursor deve \"pular\" no acesso."
   ]
  },
  {
   "cell_type": "code",
   "execution_count": 13,
   "id": "d9f6849d",
   "metadata": {},
   "outputs": [
    {
     "name": "stdout",
     "output_type": "stream",
     "text": [
      "('t', 'h', 'o', 'n')\n",
      "('p', 'y')\n",
      "('y', 't')\n",
      "('p', 't')\n",
      "('p', 'y', 't', 'h', 'o', 'n')\n",
      "('n', 'o', 'h', 't', 'y', 'p')\n"
     ]
    }
   ],
   "source": [
    "lista = tuple(\"python\")\n",
    "\n",
    "print(lista[2:])\n",
    "print(lista[:2])\n",
    "print(lista[1:3])\n",
    "print(lista[0:3:2])\n",
    "print(lista[::])\n",
    "print(lista[::-1])"
   ]
  },
  {
   "cell_type": "markdown",
   "id": "d8700b33",
   "metadata": {},
   "source": [
    "## Iterar tuplas\n",
    "\n",
    "A forma mais comum para percorrer os dados de uma tupla é utilizando o comando *for*."
   ]
  },
  {
   "cell_type": "code",
   "execution_count": 14,
   "id": "1b89913c",
   "metadata": {},
   "outputs": [
    {
     "name": "stdout",
     "output_type": "stream",
     "text": [
      "gol\n",
      "celta\n",
      "palio\n"
     ]
    }
   ],
   "source": [
    "carros = (\"gol\", \"celta\", \"palio\")\n",
    "\n",
    "for carro in carros:\n",
    "    print(carro)"
   ]
  },
  {
   "cell_type": "markdown",
   "id": "8085c3dc",
   "metadata": {},
   "source": [
    "## Função enumerate\n",
    "\n",
    "Às vezes é necessário saber qual o ídice do objeto dentro do laço *for*. Para isso podemos usar a função *enumerate*."
   ]
  },
  {
   "cell_type": "code",
   "execution_count": 15,
   "id": "e6695c29",
   "metadata": {},
   "outputs": [
    {
     "name": "stdout",
     "output_type": "stream",
     "text": [
      "0: gol\n",
      "1: celta\n",
      "2: palio\n"
     ]
    }
   ],
   "source": [
    "carros = (\"gol\", \"celta\", \"palio\")\n",
    "\n",
    "for index, carro in enumerate(carros):\n",
    "    print(F\"{index}: {carro}\")"
   ]
  },
  {
   "cell_type": "markdown",
   "id": "9984b10e",
   "metadata": {},
   "source": [
    "# métodos de classe\n",
    "\n",
    "Os métodos são praticamente os mesmos de uma lista, porém só têm três:\n",
    "- ().count()\n",
    "- ().index()\n",
    "- ().len()"
   ]
  }
 ],
 "metadata": {
  "kernelspec": {
   "display_name": "Python 3",
   "language": "python",
   "name": "python3"
  },
  "language_info": {
   "codemirror_mode": {
    "name": "ipython",
    "version": 3
   },
   "file_extension": ".py",
   "mimetype": "text/x-python",
   "name": "python",
   "nbconvert_exporter": "python",
   "pygments_lexer": "ipython3",
   "version": "3.13.7"
  }
 },
 "nbformat": 4,
 "nbformat_minor": 5
}
