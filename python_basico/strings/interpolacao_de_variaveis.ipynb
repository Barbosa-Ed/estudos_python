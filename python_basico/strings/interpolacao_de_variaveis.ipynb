{
 "cells": [
  {
   "cell_type": "markdown",
   "id": "915b9f6f",
   "metadata": {},
   "source": [
    "Em python temos3 formas de interpolar variáveis em String, a primeira é usando o sinal %, a segunda é utilizando o método format, e a última é utilizando f strings.\n",
    "A primeira forma não é atualmente recomendada e seu uso em Python 3 é raro, por esse motivo irei focar nas duas últimas.\n",
    "\n",
    "## Estilo antigo \"%\""
   ]
  },
  {
   "cell_type": "code",
   "execution_count": 4,
   "id": "6178c276",
   "metadata": {},
   "outputs": [
    {
     "name": "stdout",
     "output_type": "stream",
     "text": [
      "Olá, me chamo Ed. Eu tenho 26 anos de idade, trabalho como Programador e estou matriculado no curso de Python.\n"
     ]
    }
   ],
   "source": [
    "nome = \"Ed\"\n",
    "idade = 26\n",
    "profissao = \"Programador\"\n",
    "linguagem = \"Python\"\n",
    "\n",
    "print(\"Olá, me chamo %s. Eu tenho %d anos de idade, trabalho como %s e estou matriculado no curso de %s.\" % (nome, idade, profissao, linguagem))"
   ]
  },
  {
   "cell_type": "markdown",
   "id": "b609953c",
   "metadata": {},
   "source": [
    "## Método format"
   ]
  },
  {
   "cell_type": "code",
   "execution_count": 6,
   "id": "199c0765",
   "metadata": {},
   "outputs": [
    {
     "name": "stdout",
     "output_type": "stream",
     "text": [
      "Olá, me chamo Ed. Eu tenho 26 anos de idade, trabalho como Programador e estou matriculado no curso de Python.\n",
      "Olá, me chamo Ed. Eu tenho 26 anos de idade, trabalho como Programador e estou matriculado no curso de Python.\n",
      "Olá, me chamo Ed. Eu tenho 26 anos de idade, trabalho como programador e estou matriculado no curso de Python.\n"
     ]
    }
   ],
   "source": [
    "nome = \"Ed\"\n",
    "idade = 26\n",
    "profissao = \"Programador\"\n",
    "linguagem = \"Python\"\n",
    "\n",
    "print(\"Olá, me chamo {}. Eu tenho {} anos de idade, trabalho como {} e estou matriculado no curso de {}.\".format(nome, idade, profissao, linguagem))\n",
    "print(\"Olá, me chamo {3}. Eu tenho {2} anos de idade, trabalho como {1} e estou matriculado no curso de {0}.\".format(linguagem, profissao, idade, nome))\n",
    "\n",
    "# Formas alternativas\n",
    "pessoa = {\n",
    "    \"nome\" : \"Ed\",\n",
    "    \"idade\" : 26,\n",
    "    \"profissao\" : \"programador\",\n",
    "    \"linguagem\" : \"Python\"\n",
    "}\n",
    "print(\"Olá, me chamo {nome}. Eu tenho {idade} anos de idade, trabalho como {profissao} e estou matriculado no curso de {linguagem}.\".format(**pessoa))"
   ]
  },
  {
   "cell_type": "markdown",
   "id": "77cba753",
   "metadata": {},
   "source": [
    "## f-string"
   ]
  },
  {
   "cell_type": "code",
   "execution_count": 10,
   "id": "25cc7387",
   "metadata": {},
   "outputs": [
    {
     "name": "stdout",
     "output_type": "stream",
     "text": [
      "Olá, me chamo Ed, tenho 26 anos de idade, trabalho como Programador e estou matriculado no curso de Python\n"
     ]
    }
   ],
   "source": [
    "class ed:\n",
    "    nome = \"Ed\"\n",
    "    idade = 26\n",
    "    profissao = \"Programador\"\n",
    "    linguagem = \"Python\"\n",
    "\n",
    "print(f\"Olá, me chamo {ed.nome}, tenho {ed.idade} anos de idade, trabalho como {ed.profissao} e estou matriculado no curso de {ed.linguagem}\")"
   ]
  },
  {
   "cell_type": "markdown",
   "id": "9480af9f",
   "metadata": {},
   "source": [
    "## Formatador com f-string"
   ]
  },
  {
   "cell_type": "code",
   "execution_count": 14,
   "id": "1bb53e5e",
   "metadata": {},
   "outputs": [
    {
     "name": "stdout",
     "output_type": "stream",
     "text": [
      "Valor de PI: 3.14\n",
      "Valor de PI:     3.14\n"
     ]
    }
   ],
   "source": [
    "PI = 3.1415926536\n",
    "\n",
    "print(f\"Valor de PI: {PI:.2f}\")\n",
    "print(f\"Valor de PI: {PI:8.2f}\")\n"
   ]
  },
  {
   "cell_type": "markdown",
   "id": "7dfec38d",
   "metadata": {},
   "source": [
    "[Fatiamento de Strings e Strings multilinhas](fatiamento_de_strings.ipynb)"
   ]
  }
 ],
 "metadata": {
  "kernelspec": {
   "display_name": "Python 3",
   "language": "python",
   "name": "python3"
  },
  "language_info": {
   "codemirror_mode": {
    "name": "ipython",
    "version": 3
   },
   "file_extension": ".py",
   "mimetype": "text/x-python",
   "name": "python",
   "nbconvert_exporter": "python",
   "pygments_lexer": "ipython3",
   "version": "3.13.7"
  }
 },
 "nbformat": 4,
 "nbformat_minor": 5
}
