{
 "cells": [
  {
   "cell_type": "markdown",
   "id": "1fe19240",
   "metadata": {},
   "source": [
    "# Operadores aritméticos\n",
    "\n",
    "## O que são?\n",
    "Os operadores aritméticos executam operações matemáticas, como adição ou subtração com operandos."
   ]
  },
  {
   "cell_type": "code",
   "execution_count": 12,
   "id": "450acee6",
   "metadata": {},
   "outputs": [
    {
     "name": "stdout",
     "output_type": "stream",
     "text": [
      "11\n",
      "8\n",
      "12\n",
      "4.0\n",
      "6\n",
      "1\n",
      "8\n"
     ]
    }
   ],
   "source": [
    "# Adição\n",
    "print(1+10)\n",
    "# >>> 2\n",
    "\n",
    "# Subtração\n",
    "print(10-2)\n",
    "# >>> 8\n",
    "\n",
    "# Multiplecação\n",
    "print(4*3)\n",
    "# >>> 12\n",
    "\n",
    "# Divisão\n",
    "print(12 / 3)\n",
    "# >>> 4.0\n",
    "\n",
    "# Divisão inteira\n",
    "print(12 // 2)\n",
    "# >>> 6\n",
    "\n",
    "# Módulo\n",
    "print(10 % 3)\n",
    "# >>> 1\n",
    "\n",
    "# Exponencação\n",
    "print(2 ** 3)\n",
    "# >>> 8"
   ]
  },
  {
   "cell_type": "markdown",
   "id": "5ed93503",
   "metadata": {},
   "source": [
    "## Precedência dos operadores\n",
    "\n",
    "Na matemática existe uma regra que indica quais operações devem ser executadas primeiro. Isso é útil pois ao analisar uma expressão, a depender da ordem das operações o valor pode ser diferente"
   ]
  },
  {
   "cell_type": "code",
   "execution_count": 13,
   "id": "b622ea1e",
   "metadata": {},
   "outputs": [
    {
     "data": {
      "text/html": [
       "<div>\n",
       "<style scoped>\n",
       "    .dataframe tbody tr th:only-of-type {\n",
       "        vertical-align: middle;\n",
       "    }\n",
       "\n",
       "    .dataframe tbody tr th {\n",
       "        vertical-align: top;\n",
       "    }\n",
       "\n",
       "    .dataframe thead th {\n",
       "        text-align: right;\n",
       "    }\n",
       "</style>\n",
       "<table border=\"1\" class=\"dataframe\">\n",
       "  <thead>\n",
       "    <tr style=\"text-align: right;\">\n",
       "      <th></th>\n",
       "      <th>operadores</th>\n",
       "      <th>exemplos</th>\n",
       "    </tr>\n",
       "  </thead>\n",
       "  <tbody>\n",
       "    <tr>\n",
       "      <th>0</th>\n",
       "      <td>Parênteses</td>\n",
       "      <td>()</td>\n",
       "    </tr>\n",
       "    <tr>\n",
       "      <th>1</th>\n",
       "      <td>Potência</td>\n",
       "      <td>**</td>\n",
       "    </tr>\n",
       "    <tr>\n",
       "      <th>2</th>\n",
       "      <td>Multiplicação, Divisão, Módulo</td>\n",
       "      <td>*, /, //, %</td>\n",
       "    </tr>\n",
       "    <tr>\n",
       "      <th>3</th>\n",
       "      <td>Adição e Subtração</td>\n",
       "      <td>+, -</td>\n",
       "    </tr>\n",
       "    <tr>\n",
       "      <th>4</th>\n",
       "      <td>Comparações</td>\n",
       "      <td>&gt; , &lt; , &lt;= , &gt;= , == , !=</td>\n",
       "    </tr>\n",
       "    <tr>\n",
       "      <th>5</th>\n",
       "      <td>Lógicos: not</td>\n",
       "      <td>not</td>\n",
       "    </tr>\n",
       "    <tr>\n",
       "      <th>6</th>\n",
       "      <td>Lógicos: and</td>\n",
       "      <td>and</td>\n",
       "    </tr>\n",
       "    <tr>\n",
       "      <th>7</th>\n",
       "      <td>Lógicos: or</td>\n",
       "      <td>or</td>\n",
       "    </tr>\n",
       "  </tbody>\n",
       "</table>\n",
       "</div>"
      ],
      "text/plain": [
       "                       operadores                   exemplos\n",
       "0                      Parênteses                         ()\n",
       "1                        Potência                         **\n",
       "2  Multiplicação, Divisão, Módulo                *, /, //, %\n",
       "3              Adição e Subtração                       +, -\n",
       "4                     Comparações  > , < , <= , >= , == , !=\n",
       "5                    Lógicos: not                        not\n",
       "6                    Lógicos: and                        and\n",
       "7                     Lógicos: or                         or"
      ]
     },
     "metadata": {},
     "output_type": "display_data"
    }
   ],
   "source": [
    "import pandas as pd\n",
    "operadores_dict = {\n",
    "    'operadores': [\n",
    "        'Parênteses',\n",
    "        'Potência',\n",
    "        'Multiplicação, Divisão, Módulo',\n",
    "        'Adição e Subtração',\n",
    "        'Comparações',\n",
    "        'Lógicos: not',\n",
    "        'Lógicos: and',\n",
    "        'Lógicos: or'\n",
    "    ],\n",
    "    'exemplos': [\n",
    "        '()',\n",
    "        '**',\n",
    "        '*, /, //, %',\n",
    "        '+, -',\n",
    "        '> , < , <= , >= , == , !=',\n",
    "        'not',\n",
    "        'and',\n",
    "        'or'\n",
    "    ]\n",
    "}\n",
    "\n",
    "\n",
    "\n",
    "display(pd.DataFrame(operadores_dict))\n"
   ]
  },
  {
   "cell_type": "markdown",
   "id": "12de89f6",
   "metadata": {},
   "source": [
    "## Operadores de identidade\n",
    "\n",
    "Fora os operadores aritiméticos, de atribuição, comparação e lógicos, também existêm os operadores de identidade\n",
    "\n",
    "### O que são?\n",
    "São operadores utilizados para comparar se os dois objetos testados ocumam a mesma posição na memória.\n",
    "\n",
    "### Exemplo:"
   ]
  },
  {
   "cell_type": "code",
   "execution_count": 14,
   "id": "ae3158e5",
   "metadata": {},
   "outputs": [
    {
     "data": {
      "text/plain": [
       "True"
      ]
     },
     "execution_count": 14,
     "metadata": {},
     "output_type": "execute_result"
    }
   ],
   "source": [
    "curso = \"Curso de Python\"\n",
    "nome_curso = curso\n",
    "saldo, limite = 200, 200\n",
    "\n",
    "curso is nome_curso\n",
    "# >>> True\n",
    "\n",
    "curso is not nome_curso\n",
    "# >>> False\n",
    "\n",
    "saldo is limite\n",
    "# >>> True"
   ]
  },
  {
   "cell_type": "markdown",
   "id": "9352380a",
   "metadata": {},
   "source": [
    "## Operadores de associação\n",
    "\n",
    "### O que são?\n",
    "São operadores utilizados para verificar se um objeto está presente em uma sequência.\n",
    "\n",
    "### Exemplo:"
   ]
  },
  {
   "cell_type": "code",
   "execution_count": 15,
   "id": "808dd39b",
   "metadata": {},
   "outputs": [
    {
     "data": {
      "text/plain": [
       "False"
      ]
     },
     "execution_count": 15,
     "metadata": {},
     "output_type": "execute_result"
    }
   ],
   "source": [
    "curso = \"curso de Python\"\n",
    "frutas = [\"laranja\", \"uva\", \"limão\"]\n",
    "saques = [1500, 100]\n",
    "\n",
    "\"Python\" in curso\n",
    "# >>> True\n",
    "\n",
    "\"maçã\" not in frutas\n",
    "# >>> True\n",
    "\n",
    "200 in saques\n",
    "# >>> False"
   ]
  }
 ],
 "metadata": {
  "kernelspec": {
   "display_name": "Python 3",
   "language": "python",
   "name": "python3"
  },
  "language_info": {
   "codemirror_mode": {
    "name": "ipython",
    "version": 3
   },
   "file_extension": ".py",
   "mimetype": "text/x-python",
   "name": "python",
   "nbconvert_exporter": "python",
   "pygments_lexer": "ipython3",
   "version": "3.13.7"
  }
 },
 "nbformat": 4,
 "nbformat_minor": 5
}
