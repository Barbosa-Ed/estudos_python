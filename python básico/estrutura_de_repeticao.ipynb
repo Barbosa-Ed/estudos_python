{
 "cells": [
  {
   "cell_type": "markdown",
   "id": "0c970be5",
   "metadata": {},
   "source": [
    "## Identação e blocos de comando\n",
    "\n",
    "### A estética:\n",
    "Identar código é uma forma de manter o código fonte mais legível e manutenível. Mas em Python ela exerce um segundo papel, através da identação o interpretador consegue determinar onde um bloca de comando inicia e onde ele termina.\n",
    "\n",
    "### Bloco de comando:\n",
    "As linguagens de programação costumam utilizar caracteres ou palavras reservadas para determinar o início e fim do bloco. Em Java e C, por exemplo, utilizamos chaves.\n",
    "\n",
    "### Utilizando espaços\n",
    "Existe uma convenção em Python, que define as boas práticas para escrita de código na linguagem. Nesse documento é indicado utilizar 4 espaços em branco por nível de indentação, ou seja, a cada novo bloco adicionamos 4 novos espaços em branco.\n",
    "\n",
    "### Exemplo"
   ]
  },
  {
   "cell_type": "code",
   "execution_count": 1,
   "id": "90a48021",
   "metadata": {},
   "outputs": [],
   "source": [
    "def sacar(self, valor: float) -> None: # Início do bloco do método\n",
    "    if self.saldo >= valor: # início do bloco do if\n",
    "        self.saldo -= valor\n",
    "    # Fim do bloco if\n",
    "# Fim fo bloco do método"
   ]
  },
  {
   "cell_type": "markdown",
   "id": "0196595e",
   "metadata": {},
   "source": [
    "# Estruturas condicionais\n",
    "\n",
    "## O que são?\n",
    "A estrutura condicional permite o desvio de fluxo de controle, quando determinadas expressões lógicas são atendidas.\n",
    "\n",
    "### If\n",
    "Para criar um estrutura condicional simples, composta por um único desvio, podemos utilizar a palavra reservada _if_. O comando irá testar a expressão lógica, e em caso de retorno verdadeiro as ações presentes no bloco de código do _if_ serão executadas.\n",
    "\n",
    "#### Exemplo"
   ]
  },
  {
   "cell_type": "code",
   "execution_count": 2,
   "id": "32b4cd85",
   "metadata": {},
   "outputs": [
    {
     "ename": "ValueError",
     "evalue": "could not convert string to float: ''",
     "output_type": "error",
     "traceback": [
      "\u001b[31m---------------------------------------------------------------------------\u001b[39m",
      "\u001b[31mValueError\u001b[39m                                Traceback (most recent call last)",
      "\u001b[36mCell\u001b[39m\u001b[36m \u001b[39m\u001b[32mIn[2]\u001b[39m\u001b[32m, line 2\u001b[39m\n\u001b[32m      1\u001b[39m saldo = \u001b[32m2000.0\u001b[39m\n\u001b[32m----> \u001b[39m\u001b[32m2\u001b[39m saque = \u001b[38;5;28;43mfloat\u001b[39;49m\u001b[43m(\u001b[49m\u001b[38;5;28;43minput\u001b[39;49m\u001b[43m(\u001b[49m\u001b[33;43m\"\u001b[39;49m\u001b[33;43minforme o valor do saque: \u001b[39;49m\u001b[33;43m\"\u001b[39;49m\u001b[43m)\u001b[49m\u001b[43m)\u001b[49m\n\u001b[32m      4\u001b[39m \u001b[38;5;28;01mif\u001b[39;00m saldo >= valor:\n\u001b[32m      5\u001b[39m     \u001b[38;5;28mprint\u001b[39m(\u001b[33m\"\u001b[39m\u001b[33mRealizando valor!\u001b[39m\u001b[33m\"\u001b[39m)\n",
      "\u001b[31mValueError\u001b[39m: could not convert string to float: ''"
     ]
    }
   ],
   "source": [
    "saldo = 2000.0\n",
    "saque = float(input(\"informe o valor do saque: \"))\n",
    "\n",
    "if saldo >= valor:\n",
    "    print(\"Realizando valor!\")\n",
    "if saldo <= saque:\n",
    "    print(\"Saldo insuficiente!\")"
   ]
  },
  {
   "cell_type": "markdown",
   "id": "56207c72",
   "metadata": {},
   "source": [
    "### If/else\n",
    "Para criar uma estrutura condicional com dois desvios, podemos utilizar as palavras reservadas _if_ e _else_. Como sabemos se a expressão lógica testada no _if_ for verdadeira, então o bloco de código do _if_ será executado. Caso contrárop p bloco de código do _else_ será executado."
   ]
  },
  {
   "cell_type": "code",
   "execution_count": null,
   "id": "510f5c21",
   "metadata": {},
   "outputs": [],
   "source": [
    "saldo = 2000.0\n",
    "saque = float(input(\"informe o valor do saque: \"))\n",
    "\n",
    "if saldo >= saque:\n",
    "    print(\"Realizando saque!\")\n",
    "else:\n",
    "    print(\"Saldo insuficiente!\")"
   ]
  },
  {
   "cell_type": "markdown",
   "id": "c3d02ec4",
   "metadata": {},
   "source": [
    "### If/elif/else\n",
    "Em alguns cenários queremos mais de dois desvios, para isso podemos utilizar a palavra _elif_. O _elif_ é composto por uma nova expressão lógica, que será testada e caso retorne verdadeiro o bloco de código do _elif_ será executado. Não existe um número máximo de _elifs_ que podemos utilizar, porém evite criar grandees estruturas condicionais, pois elas aumentam a complexidade do código."
   ]
  },
  {
   "cell_type": "code",
   "execution_count": null,
   "id": "c0f68e60",
   "metadata": {},
   "outputs": [],
   "source": [
    "opcao = int(input(\"Informe uma opção [1] Sacar \\n[2] Extrato\"))\n",
    "\n",
    "if opcao == 1:\n",
    "    valor = float(input(\"Informe a quantia para o saque: \"))\n",
    "    print(f\"retirados R${valor}\")\n",
    "elif opcao == 2:\n",
    "    print(\"Exibindo o extrato...\")\n",
    "else:\n",
    "    print(\"Opção inválida\")\n"
   ]
  },
  {
   "cell_type": "markdown",
   "id": "df5f0f16",
   "metadata": {},
   "source": [
    "### If aninhado\n",
    "Podemos criar estruturas condicionais aninhadas, para isso basta adicionar estruturas _id/elif/else_ dentro do bloco de código de estruturas _if/elif/else_."
   ]
  },
  {
   "cell_type": "code",
   "execution_count": null,
   "id": "9f80351e",
   "metadata": {},
   "outputs": [],
   "source": [
    "class conta:\n",
    "    conta_normal: bool\n",
    "\n",
    "    def __init__(self, conta_universitaria: bool, saldo:float, cheque_especial:float):\n",
    "        if not conta_universitaria:\n",
    "            self.conta_normal = True\n",
    "        self.conta_universitaria = conta_universitaria\n",
    "        self.saldo = saldo\n",
    "        self.cheque_especial = cheque_especial\n",
    "    def saque(self, valor:float):\n",
    "        if self.conta_normal:\n",
    "            if saldo >=valor:\n",
    "                print(\"Saque realizado com sucesso!\")\n",
    "            elif valor <= (saldo + self.cheque_especial):\n",
    "                print(\"Saque realizado com uso do cheque esepecial!\")\n",
    "        elif self.conta_universiaria:\n",
    "            if saldo >= valor:\n",
    "                print(\"Saque realizado com sucesso!\")\n",
    "            else:\n",
    "                print(\"Saldo insuficiente!\")"
   ]
  },
  {
   "cell_type": "markdown",
   "id": "d214fcb6",
   "metadata": {},
   "source": [
    "### If ternário\n",
    "O if ternário permite escrever uma condição em uma única linha. Ele é composto por três partes, a primeira parte é o retorno caso a expressão retorne _True_, a segunda parte é a expressão lógica e a terceira parte é o retorno caso a expressão não seja atendida.\n",
    "\n",
    "#### Exemplo"
   ]
  },
  {
   "cell_type": "code",
   "execution_count": null,
   "id": "2c6b9629",
   "metadata": {},
   "outputs": [],
   "source": [
    "status = \"sucesso\" if saldo >= saque else \"falha\"\n",
    "print(f\"{status} eo realizar o saque!\")"
   ]
  }
 ],
 "metadata": {
  "kernelspec": {
   "display_name": "Python 3",
   "language": "python",
   "name": "python3"
  },
  "language_info": {
   "codemirror_mode": {
    "name": "ipython",
    "version": 3
   },
   "file_extension": ".py",
   "mimetype": "text/x-python",
   "name": "python",
   "nbconvert_exporter": "python",
   "pygments_lexer": "ipython3",
   "version": "3.13.7"
  }
 },
 "nbformat": 4,
 "nbformat_minor": 5
}
