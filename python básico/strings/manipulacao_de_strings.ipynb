{
 "cells": [
  {
   "cell_type": "markdown",
   "id": "fbf4a3d5",
   "metadata": {},
   "source": [
    "# Métodos úteis\n",
    "A classe String do Python é famosa por ser rica em métodos e possuir uma interface muito fácil de trabalhar.\n",
    "Em algumas linguagens manipular sequências de caracteres não é um trabalho trivial, porém em Python esse trabalho é simples.\n",
    "\n",
    "## Maiúscula, minúscula e título"
   ]
  },
  {
   "cell_type": "code",
   "execution_count": 2,
   "id": "aadfacf3",
   "metadata": {},
   "outputs": [
    {
     "name": "stdout",
     "output_type": "stream",
     "text": [
      "PYTHON\n",
      "python\n",
      "Python\n"
     ]
    }
   ],
   "source": [
    "curso = \"pYtHon\" \n",
    "\n",
    "print(curso.upper())\n",
    "# >>> PYTHON\n",
    "\n",
    "print(curso.lower())\n",
    "# >>> python\n",
    "\n",
    "print(curso.title())\n",
    "# >>> Python"
   ]
  },
  {
   "cell_type": "markdown",
   "id": "92f08c67",
   "metadata": {},
   "source": [
    "## Eliminando espaços em branco"
   ]
  },
  {
   "cell_type": "code",
   "execution_count": 4,
   "id": "0bc7c87a",
   "metadata": {},
   "outputs": [
    {
     "name": "stdout",
     "output_type": "stream",
     "text": [
      "Python\n",
      "Python   \n",
      "   Python\n"
     ]
    }
   ],
   "source": [
    "curso = \"   Python   \"\n",
    "\n",
    "print(curso.strip())\n",
    "# >>> \"Python\"\n",
    "\n",
    "print(curso.lstrip())\n",
    "# >>> \"Python   \"\n",
    "\n",
    "print(curso.rstrip())\n",
    "# >>> \"   Python\""
   ]
  },
  {
   "cell_type": "markdown",
   "id": "8344f0fc",
   "metadata": {},
   "source": [
    "## Junções e centralização"
   ]
  },
  {
   "cell_type": "code",
   "execution_count": 6,
   "id": "0f903dc6",
   "metadata": {},
   "outputs": [
    {
     "name": "stdout",
     "output_type": "stream",
     "text": [
      "##Python##\n",
      "P.y.t.h.o.n\n"
     ]
    }
   ],
   "source": [
    "curso = \"Python\"\n",
    "\n",
    "print(curso.center(10, \"#\"))\n",
    "# >>> \"##Python##\"\n",
    "\n",
    "print(\".\".join(curso))\n",
    "# >>> \"P.y.t.h.o.n\""
   ]
  },
  {
   "cell_type": "markdown",
   "id": "5f1cf23b",
   "metadata": {},
   "source": [
    "[Interpolação de variáveis](interpolacao_de_variaveis.ipynb)"
   ]
  }
 ],
 "metadata": {
  "kernelspec": {
   "display_name": "Python 3",
   "language": "python",
   "name": "python3"
  },
  "language_info": {
   "codemirror_mode": {
    "name": "ipython",
    "version": 3
   },
   "file_extension": ".py",
   "mimetype": "text/x-python",
   "name": "python",
   "nbconvert_exporter": "python",
   "pygments_lexer": "ipython3",
   "version": "3.13.7"
  }
 },
 "nbformat": 4,
 "nbformat_minor": 5
}
