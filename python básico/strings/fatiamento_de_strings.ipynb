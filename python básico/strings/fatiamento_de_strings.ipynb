{
 "cells": [
  {
   "cell_type": "markdown",
   "id": "fdf873d6",
   "metadata": {},
   "source": [
    "# Introdução\n",
    "Fatiamento de strings é uma técnica utilizada para retornar _substrings_ (partes da String original), informando inicio (start), fim (stop) e passo (step): [start:stop[, step]]"
   ]
  },
  {
   "cell_type": "code",
   "execution_count": null,
   "id": "4ff63c55",
   "metadata": {},
   "outputs": [],
   "source": [
    "nome = \"Ednaldo Barbosa da Silva\"\n",
    "\n",
    "nome[0]\n",
    "# >>> \"E\"\n",
    "\n",
    "nome[:7]\n",
    "# >>> \"Ednaldo\"\n",
    "\n",
    "nome[8:]\n",
    "# >>> \"Barbosa da Silva\"\n",
    "\n",
    "nome[8:15]\n",
    "# >>> \"Barbosa\"\n",
    "\n",
    "nome[8:15:2]\n",
    "# >>> \"Broa\"\n",
    "\n",
    "nome[:]\n",
    "# >>> \"Ednaldo Barbosa da Silva\"\n",
    "\n",
    "nome[::-1]\n",
    "# >>> \"avliS ad asobraB odlandE\""
   ]
  },
  {
   "cell_type": "markdown",
   "id": "ce2ea4d6",
   "metadata": {},
   "source": [
    "# Strings de múltiplas linhas\n",
    "Strings de múltiplas linhas são definidas informando 3 aspas simples ou duplas durante a atribuição. Elas podes ocupar várias linhas do código, e todos os espaços em branco são incluídos na String final."
   ]
  },
  {
   "cell_type": "code",
   "execution_count": 10,
   "id": "e0b532b3",
   "metadata": {},
   "outputs": [
    {
     "name": "stdout",
     "output_type": "stream",
     "text": [
      "\n",
      "Olá, meu nome é Ed,\n",
      " Eu estou aprendendo Python\n",
      "\n"
     ]
    }
   ],
   "source": [
    "nome = \"Ed\"\n",
    "\n",
    "mensagem = f\"\"\"\n",
    "Olá, meu nome é {nome},\n",
    " Eu estou aprendendo Python\n",
    "\"\"\"\n",
    "\n",
    "print(mensagem)"
   ]
  }
 ],
 "metadata": {
  "kernelspec": {
   "display_name": "Python 3",
   "language": "python",
   "name": "python3"
  },
  "language_info": {
   "codemirror_mode": {
    "name": "ipython",
    "version": 3
   },
   "file_extension": ".py",
   "mimetype": "text/x-python",
   "name": "python",
   "nbconvert_exporter": "python",
   "pygments_lexer": "ipython3",
   "version": "3.13.7"
  }
 },
 "nbformat": 4,
 "nbformat_minor": 5
}
