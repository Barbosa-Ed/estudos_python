{
 "cells": [
  {
   "cell_type": "markdown",
   "id": "25a1e300",
   "metadata": {},
   "source": [
    "# Criação e Acesso a listas\n",
    "\n",
    "## Criando listas\n",
    "\n",
    "Listas em Python podem armazenar de maneira sequencial qualquer tipo de objeto. Podemos criar listas utilizando o construtor _list_, a função _range_ ou colocando valores separados por vírgula dentro de colchetes _[]_. listas são objetos mutáaveis, portanto podemos alterar seus valores após a criação.\n",
    "\n",
    "## Exemplo:"
   ]
  },
  {
   "cell_type": "code",
   "execution_count": 32,
   "id": "dc991f72",
   "metadata": {},
   "outputs": [],
   "source": [
    "frutas = [\"laranja\", \"uva\", \"maçã\"]\n",
    "\n",
    "frutas = []\n",
    "\n",
    "letras = list(\"python\")\n",
    "\n",
    "numeros = list(range(10))\n",
    "\n",
    "carro = [\"Ferrari\", \"F8\", 4200000, 2020, 2900, \"São Paulo\", True]"
   ]
  },
  {
   "cell_type": "markdown",
   "id": "a343bb37",
   "metadata": {},
   "source": [
    "## Acesso direto\n",
    "\n",
    "A lista é uma sequência, portanto podemos acessar seus dados utilizando índices. Contamos com o índice de determinada sequência a partir do zero."
   ]
  },
  {
   "cell_type": "code",
   "execution_count": 33,
   "id": "18bee890",
   "metadata": {},
   "outputs": [
    {
     "data": {
      "text/plain": [
       "'uva'"
      ]
     },
     "execution_count": 33,
     "metadata": {},
     "output_type": "execute_result"
    }
   ],
   "source": [
    "frutas = [\"maçã\", \"laranja\", \"uva\", \"pera\"]\n",
    "frutas[0] # maçã\n",
    "frutas[2] # uva"
   ]
  },
  {
   "cell_type": "markdown",
   "id": "c7f3474d",
   "metadata": {},
   "source": [
    "## Índices negativos\n",
    "\n",
    "Sequências suportam indexação negativa. A contagem começa em -1."
   ]
  },
  {
   "cell_type": "code",
   "execution_count": 34,
   "id": "b092dd9b",
   "metadata": {},
   "outputs": [
    {
     "data": {
      "text/plain": [
       "'laranja'"
      ]
     },
     "execution_count": 34,
     "metadata": {},
     "output_type": "execute_result"
    }
   ],
   "source": [
    "frutas = [\"maçã\", \"laranja\", \"uva\", \"pera\"]\n",
    "frutas[-1] # pera\n",
    "frutas[-3] # laranja"
   ]
  },
  {
   "cell_type": "markdown",
   "id": "dde381bb",
   "metadata": {},
   "source": [
    "## Listas aninhadas\n",
    "\n",
    "Listas podem armazenar todos os tipos de objetos Python, portanto podemos ter listas que armazenam outras listas. Com isso podemos criar estruturas bidimensionais (tabelas), e acessar informando os índices de linha e coluna"
   ]
  },
  {
   "cell_type": "code",
   "execution_count": 35,
   "id": "f8dc6ae4",
   "metadata": {},
   "outputs": [
    {
     "data": {
      "text/plain": [
       "'c'"
      ]
     },
     "execution_count": 35,
     "metadata": {},
     "output_type": "execute_result"
    }
   ],
   "source": [
    "matriz = [\n",
    "    [1, 'a', 2],\n",
    "    ['b', 3, 4],\n",
    "    [6, 5, 'c']\n",
    "]\n",
    "\n",
    "matriz[0] # [1, 'a', 2]\n",
    "matriz[0][0] # 1\n",
    "matriz[0][-1] # 2\n",
    "matriz[-1][-1] # 'c'"
   ]
  },
  {
   "cell_type": "markdown",
   "id": "46ab6872",
   "metadata": {},
   "source": [
    "## Fatiamento\n",
    "\n",
    "Além de acessar elementos diretamente, podemos extrair um conjunto de valores de uma sequência. Para isso basta passar o índice inicial e/ou final para acessar o conjunto. Podemos ainda informar quantas posições o cursor deve \"pular\" no acesso."
   ]
  },
  {
   "cell_type": "code",
   "execution_count": 36,
   "id": "188daca1",
   "metadata": {},
   "outputs": [
    {
     "name": "stdout",
     "output_type": "stream",
     "text": [
      "['t', 'h', 'o', 'n']\n",
      "['p', 'y']\n",
      "['y', 't']\n",
      "['p', 't']\n",
      "['p', 'y', 't', 'h', 'o', 'n']\n",
      "['n', 'o', 'h', 't', 'y', 'p']\n"
     ]
    }
   ],
   "source": [
    "lista = list(\"python\")\n",
    "\n",
    "print(lista[2:])\n",
    "print(lista[:2])\n",
    "print(lista[1:3])\n",
    "print(lista[0:3:2])\n",
    "print(lista[::])\n",
    "print(lista[::-1])"
   ]
  },
  {
   "cell_type": "markdown",
   "id": "f39d7c7e",
   "metadata": {},
   "source": [
    "## Iterar listas\n",
    "\n",
    "A forma mais comum para percorrer os dados de uma lista é utilizando o comando _for_.\n",
    "\n",
    "## Exemplo"
   ]
  },
  {
   "cell_type": "code",
   "execution_count": 37,
   "id": "d329e5f4",
   "metadata": {},
   "outputs": [
    {
     "name": "stdout",
     "output_type": "stream",
     "text": [
      "gol\n",
      "celta\n",
      "palio\n"
     ]
    }
   ],
   "source": [
    "carros = [\"gol\", \"celta\", \"palio\"]\n",
    "\n",
    "for carro in carros:\n",
    "    print(carro)"
   ]
  },
  {
   "cell_type": "markdown",
   "id": "088b12b3",
   "metadata": {},
   "source": [
    "## Função enumerate\n",
    "\n",
    "Às vezes é necessário saber qual o índice do objeto dentro do laço _for_. Para isso podemos usar a função **enumerate**."
   ]
  },
  {
   "cell_type": "code",
   "execution_count": 38,
   "id": "16d4d511",
   "metadata": {},
   "outputs": [
    {
     "name": "stdout",
     "output_type": "stream",
     "text": [
      "0: gol\n",
      "1: celta\n",
      "2: palio\n"
     ]
    }
   ],
   "source": [
    "carros = [\"gol\", \"celta\", \"palio\"]\n",
    "\n",
    "for index, carro in enumerate(carros):\n",
    "    print(f\"{index}: {carro}\")"
   ]
  },
  {
   "cell_type": "markdown",
   "id": "0574b536",
   "metadata": {},
   "source": [
    "## Compreensão de listas\n",
    "\n",
    "A compreensão de lista oferece uma sintaxe mais curta quando você deseja: criar uma nova lista com base nos valores de uma lista existente (filtro) ou gerar uma nova lista aplicando alguma modificação nos elementos de uma lista existente."
   ]
  },
  {
   "cell_type": "code",
   "execution_count": 39,
   "id": "f51eec90",
   "metadata": {},
   "outputs": [],
   "source": [
    "# Versão com for\n",
    "numeros = [1, 2, 3, 4, 5, 6, 7, 8]\n",
    "pares = []\n",
    "\n",
    "for numero in numeros:\n",
    "    if numero % 2 == 0:\n",
    "        pares.append(numero)\n",
    "\n",
    "# VERSÃO MAIS CURTA E PERFORMÁTICA\n",
    "numeros = [1, 2, 3, 4, 5, 6, 7, 8]\n",
    "pares = [numero for numero in numeros if numero % 2 == 0]\n"
   ]
  },
  {
   "cell_type": "markdown",
   "id": "a89651c0",
   "metadata": {},
   "source": [
    "A princípio parece confuso, mas se olharmos parte por parte ficará:\n",
    "\n",
    "pares = [**retorno** <ins>for numero in numeros</ins> <ins>if numero % 2 == 0</ins>]  \n",
    "&emsp;&emsp;&emsp;&emsp;&emsp;&emsp;&emsp;&emsp;&emsp;&emsp;Iteração&emsp;&emsp;&emsp; &emsp;&emsp;&emsp;&emsp;filtro"
   ]
  },
  {
   "cell_type": "markdown",
   "id": "6af8f934",
   "metadata": {},
   "source": [
    "## Modificando o valor"
   ]
  },
  {
   "cell_type": "code",
   "execution_count": 40,
   "id": "8eb285c7",
   "metadata": {},
   "outputs": [],
   "source": [
    "# Versão com for\n",
    "numeros = [1, 2, 3, 4, 5, 6, 7, 8]\n",
    "quadrado = []\n",
    "\n",
    "for num in numeros:\n",
    "    quadrado.append(num ** 2)\n",
    "\n",
    "# OUTRA VERSÃO\n",
    "numeros = [1, 2, 3, 4, 5, 6, 7, 8]\n",
    "\n",
    "quadrado = [num **2 for num in numeros]"
   ]
  },
  {
   "cell_type": "markdown",
   "id": "5fad3afc",
   "metadata": {},
   "source": [
    "# Métodos da Classe _list_\n",
    "\n",
    "### 1 - [].append()\n",
    "Adiciona objeto à lista"
   ]
  },
  {
   "cell_type": "code",
   "execution_count": 41,
   "id": "7f050158",
   "metadata": {},
   "outputs": [
    {
     "name": "stdout",
     "output_type": "stream",
     "text": [
      "[1, 'Python', [40, 30, 20]]\n"
     ]
    }
   ],
   "source": [
    "lista = []\n",
    "\n",
    "lista.append(1)\n",
    "lista.append(\"Python\")\n",
    "lista.append([40, 30, 20])\n",
    "\n",
    "print(lista)"
   ]
  },
  {
   "cell_type": "markdown",
   "id": "3627a226",
   "metadata": {},
   "source": [
    "### 2 - [].clear()\n",
    "Limpa a lista"
   ]
  },
  {
   "cell_type": "code",
   "execution_count": 42,
   "id": "a9e7a3a9",
   "metadata": {},
   "outputs": [
    {
     "name": "stdout",
     "output_type": "stream",
     "text": [
      "[1, 'Python', [40, 30, 20]]\n",
      "[]\n"
     ]
    }
   ],
   "source": [
    "lista = [1, 'Python', [40, 30, 20]]\n",
    "\n",
    "print(lista) # [1, 'Python', [40, 30, 20]]\n",
    "\n",
    "lista.clear()\n",
    "\n",
    "print(lista) # []"
   ]
  },
  {
   "cell_type": "markdown",
   "id": "6babff72",
   "metadata": {},
   "source": [
    "### 3 - [].copy()\n",
    "Cria uma cópia de uma lista, porém em outra instância"
   ]
  },
  {
   "cell_type": "code",
   "execution_count": 43,
   "id": "f3848d4c",
   "metadata": {},
   "outputs": [
    {
     "name": "stdout",
     "output_type": "stream",
     "text": [
      "False\n"
     ]
    }
   ],
   "source": [
    "lista = [1, 'Python', [40, 30, 20]]\n",
    "\n",
    "print((lista.copy() is lista))"
   ]
  },
  {
   "cell_type": "markdown",
   "id": "fee77402",
   "metadata": {},
   "source": [
    "### 4 - [].count()\n",
    "Conta quantas vezes um determinado objeto aparece numa lista"
   ]
  },
  {
   "cell_type": "code",
   "execution_count": 44,
   "id": "d0ca80f2",
   "metadata": {},
   "outputs": [
    {
     "data": {
      "text/plain": [
       "1"
      ]
     },
     "execution_count": 44,
     "metadata": {},
     "output_type": "execute_result"
    }
   ],
   "source": [
    "cores = [\"vermelho\", \"azul\", \"verde\", \"azul\"]\n",
    "\n",
    "cores.count(\"vermelho\")\n",
    "cores.count(\"azul\")\n",
    "cores.count(\"verde\")"
   ]
  },
  {
   "cell_type": "markdown",
   "id": "206a106e",
   "metadata": {},
   "source": [
    "### 5 - extend()\n",
    "Utilizado para unir listas"
   ]
  },
  {
   "cell_type": "code",
   "execution_count": 45,
   "id": "5379b747",
   "metadata": {},
   "outputs": [
    {
     "name": "stdout",
     "output_type": "stream",
     "text": [
      "['Python', 'js', 'C']\n",
      "['Python', 'js', 'C', 'Java', 'c#']\n"
     ]
    }
   ],
   "source": [
    "linguagens = [\"Python\", \"js\", \"C\"]\n",
    "\n",
    "print(linguagens)\n",
    "\n",
    "linguagens.extend([\"Java\", \"c#\"])\n",
    "\n",
    "print(linguagens)"
   ]
  },
  {
   "cell_type": "markdown",
   "id": "3a9dd60c",
   "metadata": {},
   "source": [
    "### 6 - [].index()\n",
    "Encontra a primeira ocorrência do objeto passadp"
   ]
  },
  {
   "cell_type": "code",
   "execution_count": 46,
   "id": "8ae3293a",
   "metadata": {},
   "outputs": [
    {
     "data": {
      "text/plain": [
       "0"
      ]
     },
     "execution_count": 46,
     "metadata": {},
     "output_type": "execute_result"
    }
   ],
   "source": [
    "linguagens = [\"Python\", \"js\", \"C\", \"Java\", \"C#\"]\n",
    "\n",
    "linguagens.index(\"Java\")\n",
    "linguagens.index(\"Python\")"
   ]
  },
  {
   "cell_type": "markdown",
   "id": "92f17ea8",
   "metadata": {},
   "source": [
    "### 7 - [].pop()\n",
    "Retira o último objeto adicionado à lista, quando passado um parâmetro, retira o elemento com índice igual ao parâmetro passado"
   ]
  },
  {
   "cell_type": "code",
   "execution_count": 47,
   "id": "8de95a93",
   "metadata": {},
   "outputs": [
    {
     "data": {
      "text/plain": [
       "'Python'"
      ]
     },
     "execution_count": 47,
     "metadata": {},
     "output_type": "execute_result"
    }
   ],
   "source": [
    "linguagens = [\"Python\", \"js\", \"C\", \"Java\", \"C#\"]\n",
    "\n",
    "linguagens.pop()\n",
    "linguagens.pop()\n",
    "linguagens.pop()\n",
    "linguagens.pop(0)"
   ]
  },
  {
   "cell_type": "markdown",
   "id": "2ac7ff46",
   "metadata": {},
   "source": [
    "### 8 - [].remove()\n",
    "É uma segunda forma de retirar um elemento de uma lista, diferente do _pop_, você não passa o índice, mas sim o elemento em si."
   ]
  },
  {
   "cell_type": "code",
   "execution_count": 49,
   "id": "0c37e52a",
   "metadata": {},
   "outputs": [
    {
     "name": "stdout",
     "output_type": "stream",
     "text": [
      "['Python', 'js', 'Java', 'C#']\n"
     ]
    }
   ],
   "source": [
    "linguagens = [\"Python\", \"js\", \"C\", \"Java\", \"C#\"]\n",
    "\n",
    "linguagens.remove(\"C\")\n",
    "\n",
    "print(linguagens)"
   ]
  }
 ],
 "metadata": {
  "kernelspec": {
   "display_name": "Python 3",
   "language": "python",
   "name": "python3"
  },
  "language_info": {
   "codemirror_mode": {
    "name": "ipython",
    "version": 3
   },
   "file_extension": ".py",
   "mimetype": "text/x-python",
   "name": "python",
   "nbconvert_exporter": "python",
   "pygments_lexer": "ipython3",
   "version": "3.13.7"
  }
 },
 "nbformat": 4,
 "nbformat_minor": 5
}
