{
 "cells": [
  {
   "cell_type": "markdown",
   "id": "38f7173d",
   "metadata": {},
   "source": [
    "# Criando sets\n",
    "\n",
    "Um _set_ é uma coleção que não possui objetos repetidos, usamos sets paraa representar conjuntos matemáticos ou eliminar itens duplicados de um iterável.\n",
    "\n",
    "## Exemplo"
   ]
  },
  {
   "cell_type": "code",
   "execution_count": null,
   "id": "f8c8b105",
   "metadata": {},
   "outputs": [],
   "source": [
    "set([1, 2, 3, 1, 3, 4]) # {1, 2, 3, 4}\n",
    "\n",
    "set(\"abacaxi\") # {\"a\", \"b\", \"c\", \"x\", \"i\"}\n",
    "\n",
    "set((\"palio\", \"gol\", \"celta\", \"palio\"))\n"
   ]
  },
  {
   "cell_type": "markdown",
   "id": "782f6692",
   "metadata": {},
   "source": [
    "## Acessando dados\n",
    "\n",
    "Conojuntos em Python não suportam indexação e nem fatiamento, caso queira acessar os seus valores é necessário converter o conjunto para uma lista."
   ]
  },
  {
   "cell_type": "code",
   "execution_count": null,
   "id": "e724e0a4",
   "metadata": {},
   "outputs": [
    {
     "name": "stdout",
     "output_type": "stream",
     "text": [
      "4\n"
     ]
    }
   ],
   "source": [
    "meu_set = {5, 2, 3, 1, 4, 3}\n",
    "\n",
    "minha_lista = list(meu_set)\n",
    "\n",
    "minha_lista[3]"
   ]
  },
  {
   "cell_type": "markdown",
   "id": "414feeb3",
   "metadata": {},
   "source": [
    "## Iterar conjuntos\n",
    "\n",
    "A forma mais comum para percorrer os dados de um conjunto é utilizando o comando _for_."
   ]
  },
  {
   "cell_type": "code",
   "execution_count": null,
   "id": "a8c16b3d",
   "metadata": {},
   "outputs": [],
   "source": [
    "carros = set((\"palio\", \"gol\", \"celta\", \"palio\"))\n",
    "\n",
    "for carro in carros:\n",
    "    print(carro)"
   ]
  },
  {
   "cell_type": "markdown",
   "id": "8f148215",
   "metadata": {},
   "source": [
    "## Função enumerate\n",
    "\n",
    "Às vezes é necessário saber qual o índice dentro do laço _for_. Para isso podemos usar a função _enumerate_."
   ]
  },
  {
   "cell_type": "code",
   "execution_count": null,
   "id": "8b5afc7f",
   "metadata": {},
   "outputs": [],
   "source": [
    "carros = set((\"palio\", \"gol\", \"celta\", \"palio\"))\n",
    "\n",
    "for index, carro in enumerate(carros):\n",
    "    print(f\"{index}: {carro}\")"
   ]
  },
  {
   "cell_type": "markdown",
   "id": "ac5071f2",
   "metadata": {},
   "source": [
    "# Métodos de classe\n",
    "\n",
    "## {}.union()\n",
    "<img src=\"https://corporate-assets.lucid.co/chart/2c1dec82-45b9-4133-8d49-41aacbda6601.png?v=1707843662036\" height=\"250px\">"
   ]
  },
  {
   "cell_type": "code",
   "execution_count": null,
   "id": "aad35c0f",
   "metadata": {},
   "outputs": [],
   "source": [
    "conjunto_a = {1, 2}\n",
    "conjunto_b = {3, 4}\n",
    "\n",
    "conjunto_a.union(conjunto_b)"
   ]
  },
  {
   "cell_type": "markdown",
   "id": "8756ece3",
   "metadata": {},
   "source": [
    "## {}.intersection()\n",
    "<img src=\"https://static.todamateria.com.br/upload/in/te/interseca_ao.jpg\" height=\"250px\">"
   ]
  },
  {
   "cell_type": "code",
   "execution_count": null,
   "id": "790afedb",
   "metadata": {},
   "outputs": [],
   "source": [
    "conjunto_a = {1, 2, 3}\n",
    "conjunto_b = {2, 3, 4}\n",
    "\n",
    "conjunto_a.intersection(conjunto_b)"
   ]
  },
  {
   "cell_type": "markdown",
   "id": "a321db56",
   "metadata": {},
   "source": [
    "## {}.difference()\n",
    "<img src=\"https://escolaeducacao.com.br/wp-content/uploads/2020/08/diferenca-de-conjuntos-diagrama.png\" height=\"250px\">"
   ]
  },
  {
   "cell_type": "code",
   "execution_count": 19,
   "id": "757bad46",
   "metadata": {},
   "outputs": [
    {
     "data": {
      "text/plain": [
       "{4}"
      ]
     },
     "execution_count": 19,
     "metadata": {},
     "output_type": "execute_result"
    }
   ],
   "source": [
    "conjunto_a = {1, 2, 3}\n",
    "conjunto_b = {2, 3, 4}\n",
    "\n",
    "conjunto_a.difference(conjunto_b)\n",
    "conjunto_b.difference(conjunto_a)"
   ]
  },
  {
   "cell_type": "markdown",
   "id": "f852178b",
   "metadata": {},
   "source": [
    "## {}.symmetric_difference\n",
    "<img src=\"https://upload.wikimedia.org/wikipedia/commons/thumb/4/46/Venn0110.svg/1200px-Venn0110.svg.png\" height=\"250px\">"
   ]
  },
  {
   "cell_type": "code",
   "execution_count": 20,
   "id": "7d0cbacc",
   "metadata": {},
   "outputs": [
    {
     "data": {
      "text/plain": [
       "{1, 4}"
      ]
     },
     "execution_count": 20,
     "metadata": {},
     "output_type": "execute_result"
    }
   ],
   "source": [
    "conjunto_a = {1, 2, 3}\n",
    "conjunto_b = {2, 3, 4}\n",
    "\n",
    "conjunto_a.symmetric_difference(conjunto_b)"
   ]
  },
  {
   "cell_type": "markdown",
   "id": "2f4e8285",
   "metadata": {},
   "source": [
    "## {}.issubset()\n",
    "\n",
    "<img src=\"https://upload.wikimedia.org/wikipedia/commons/thumb/b/b0/Venn_A_subset_B.svg/1200px-Venn_A_subset_B.svg.png\" height=\"250px\">"
   ]
  },
  {
   "cell_type": "code",
   "execution_count": null,
   "id": "82980b5c",
   "metadata": {},
   "outputs": [],
   "source": [
    "conjunto_a = {1, 2, 3}\n",
    "conjunto_b = {4, 1, 2, 5, 6, 3}\n",
    "\n",
    "conjunto_a.issubset(conjunto_b) # True\n",
    "conjunto_b.issubset(conjunto_a) # False"
   ]
  },
  {
   "cell_type": "markdown",
   "id": "152fdc11",
   "metadata": {},
   "source": [
    "## {}.issuperset()\n",
    "\n",
    "É o oposto do _issubset_, é usado para saber se o conjunto é um superset de outro."
   ]
  },
  {
   "cell_type": "code",
   "execution_count": null,
   "id": "e97a6414",
   "metadata": {},
   "outputs": [],
   "source": [
    "conjunto_a = {1, 2, 3}\n",
    "conjunto_b = {4, 1, 2, 5, 6, 3}\n",
    "\n",
    "conjunto_a.issuperset(conjunto_b) # False\n",
    "conjunto_b.issuperset(conjunto_a) # True"
   ]
  },
  {
   "cell_type": "markdown",
   "id": "21ec0c0e",
   "metadata": {},
   "source": [
    "## {}.isdisjoint()\n",
    "Serve para saber se dois conjuntos são disjuntos.\n",
    "<img src=\"https://blogger.googleusercontent.com/img/b/R29vZ2xl/AVvXsEiXFnJxjhpGIRi5aD4ly5Fkd0UQz5-LRRllW0lxeRsHt6UGSUic_Fi15gOdbqZLrFa7HiCTv2JLtTG8U6uSj3wCC6bHfFtb5mGlIwOUY8yqUrwj5XTePbh_lFmwXGbh2JUL_VBtE56dZDU7/s1600/Diferen%25C3%25A7a2.png\" height=\"250px\">"
   ]
  },
  {
   "cell_type": "code",
   "execution_count": null,
   "id": "e9920e9d",
   "metadata": {},
   "outputs": [],
   "source": [
    "conjunto_a = {1, 2, 3, 4, 5}\n",
    "conjunto_b = {6, 7, 8, 9}\n",
    "conjunto_c = {1, 0}\n",
    "\n",
    "conjunto_a.isdisjoint(conjunto_b) # True\n",
    "conjunto_a.isdisjoint(conjunto_c) # False"
   ]
  },
  {
   "cell_type": "markdown",
   "id": "e33d59c7",
   "metadata": {},
   "source": [
    "## {}.add()\n",
    "Serve para adicionar um elemento caso ele não exista no conjunto."
   ]
  },
  {
   "cell_type": "code",
   "execution_count": null,
   "id": "d80e2cfb",
   "metadata": {},
   "outputs": [],
   "source": [
    "sorteio = {1, 25}\n",
    "\n",
    "sorteio.add(23) # {1, 23, 25}\n",
    "sorteio.add(42) # {1, 23, 25, 42}\n",
    "sorteio.add(23) # {1, 23, 25, 42}"
   ]
  },
  {
   "cell_type": "markdown",
   "id": "844027a5",
   "metadata": {},
   "source": [
    "## {}.clear()\n",
    "\n",
    "O método clear \"limpa\" seu conjunto."
   ]
  },
  {
   "cell_type": "code",
   "execution_count": null,
   "id": "f6447d81",
   "metadata": {},
   "outputs": [],
   "source": [
    "sorteio = {1, 25}\n",
    "\n",
    "sorteio.clear()"
   ]
  },
  {
   "cell_type": "markdown",
   "id": "caccc809",
   "metadata": {},
   "source": [
    "## {}.copy()\n",
    "cria uma cópia de um conjunto"
   ]
  },
  {
   "cell_type": "code",
   "execution_count": 22,
   "id": "acaeda7c",
   "metadata": {},
   "outputs": [
    {
     "data": {
      "text/plain": [
       "False"
      ]
     },
     "execution_count": 22,
     "metadata": {},
     "output_type": "execute_result"
    }
   ],
   "source": [
    "sorteio = {1, 25}\n",
    "\n",
    "sorteio_2 = sorteio.copy()\n",
    "\n",
    "sorteio_2 is sorteio"
   ]
  },
  {
   "cell_type": "markdown",
   "id": "4ac784f8",
   "metadata": {},
   "source": [
    "## {}.discard()\n",
    "\n",
    "Discarta um determinado valor do conjunto, se esse valor não existir, o método irá apenas ignorar."
   ]
  },
  {
   "cell_type": "code",
   "execution_count": null,
   "id": "76dbf56a",
   "metadata": {},
   "outputs": [],
   "source": [
    "num = {1, 2, 3}\n",
    "\n",
    "num.discard(1) # {2, 3}"
   ]
  },
  {
   "cell_type": "markdown",
   "id": "c4ddf96f",
   "metadata": {},
   "source": [
    "## {}.pop()\n",
    "Remove o primeiro ítem do conjunto e retorna"
   ]
  },
  {
   "cell_type": "code",
   "execution_count": 26,
   "id": "b2ebeeca",
   "metadata": {},
   "outputs": [
    {
     "data": {
      "text/plain": [
       "2"
      ]
     },
     "execution_count": 26,
     "metadata": {},
     "output_type": "execute_result"
    }
   ],
   "source": [
    "num = {7, 2, 3, 4, 5}\n",
    "\n",
    "num.pop()"
   ]
  },
  {
   "cell_type": "markdown",
   "id": "de2bf380",
   "metadata": {},
   "source": [
    "## {}.remove()\n",
    "\n",
    "Funciona como o discard, porém caso o elemento não exista ele emitirá um _keyError_"
   ]
  },
  {
   "cell_type": "code",
   "execution_count": 27,
   "id": "659879ec",
   "metadata": {},
   "outputs": [
    {
     "ename": "KeyError",
     "evalue": "0",
     "output_type": "error",
     "traceback": [
      "\u001b[31m---------------------------------------------------------------------------\u001b[39m",
      "\u001b[31mKeyError\u001b[39m                                  Traceback (most recent call last)",
      "\u001b[36mCell\u001b[39m\u001b[36m \u001b[39m\u001b[32mIn[27]\u001b[39m\u001b[32m, line 3\u001b[39m\n\u001b[32m      1\u001b[39m numeros = {\u001b[32m1\u001b[39m, \u001b[32m2\u001b[39m, \u001b[32m3\u001b[39m, \u001b[32m1\u001b[39m, \u001b[32m2\u001b[39m, \u001b[32m4\u001b[39m}\n\u001b[32m----> \u001b[39m\u001b[32m3\u001b[39m \u001b[43mnumeros\u001b[49m\u001b[43m.\u001b[49m\u001b[43mremove\u001b[49m\u001b[43m(\u001b[49m\u001b[32;43m0\u001b[39;49m\u001b[43m)\u001b[49m\n",
      "\u001b[31mKeyError\u001b[39m: 0"
     ]
    }
   ],
   "source": [
    "numeros = {1, 2, 3, 1, 2, 4}\n",
    "\n",
    "numeros.remove(0)"
   ]
  },
  {
   "cell_type": "markdown",
   "id": "62df1cbd",
   "metadata": {},
   "source": [
    "## len()\n",
    "\n",
    "Essa função serve para receber o tamanho do conjunto"
   ]
  },
  {
   "cell_type": "code",
   "execution_count": 31,
   "id": "f2b66f14",
   "metadata": {},
   "outputs": [
    {
     "data": {
      "text/plain": [
       "4"
      ]
     },
     "execution_count": 31,
     "metadata": {},
     "output_type": "execute_result"
    }
   ],
   "source": [
    "numeros = {1, 2, 3, 1, 2, 4}\n",
    "\n",
    "len(numeros)"
   ]
  }
 ],
 "metadata": {
  "kernelspec": {
   "display_name": "Python 3",
   "language": "python",
   "name": "python3"
  },
  "language_info": {
   "codemirror_mode": {
    "name": "ipython",
    "version": 3
   },
   "file_extension": ".py",
   "mimetype": "text/x-python",
   "name": "python",
   "nbconvert_exporter": "python",
   "pygments_lexer": "ipython3",
   "version": "3.13.7"
  }
 },
 "nbformat": 4,
 "nbformat_minor": 5
}
