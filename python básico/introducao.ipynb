{
 "cells": [
  {
   "cell_type": "markdown",
   "id": "f753aefb",
   "metadata": {},
   "source": [
    "Em python, os tipos built-in são:"
   ]
  },
  {
   "cell_type": "code",
   "execution_count": 8,
   "id": "970dadc8",
   "metadata": {},
   "outputs": [
    {
     "data": {
      "text/html": [
       "<div>\n",
       "<style scoped>\n",
       "    .dataframe tbody tr th:only-of-type {\n",
       "        vertical-align: middle;\n",
       "    }\n",
       "\n",
       "    .dataframe tbody tr th {\n",
       "        vertical-align: top;\n",
       "    }\n",
       "\n",
       "    .dataframe thead th {\n",
       "        text-align: right;\n",
       "    }\n",
       "</style>\n",
       "<table border=\"1\" class=\"dataframe\">\n",
       "  <thead>\n",
       "    <tr style=\"text-align: right;\">\n",
       "      <th></th>\n",
       "      <th>Informação</th>\n",
       "      <th>Tipos</th>\n",
       "    </tr>\n",
       "  </thead>\n",
       "  <tbody>\n",
       "    <tr>\n",
       "      <th>0</th>\n",
       "      <td>Numérico</td>\n",
       "      <td>int, float, complex</td>\n",
       "    </tr>\n",
       "    <tr>\n",
       "      <th>1</th>\n",
       "      <td>Sequência</td>\n",
       "      <td>list, tuple, range</td>\n",
       "    </tr>\n",
       "    <tr>\n",
       "      <th>2</th>\n",
       "      <td>Mapa</td>\n",
       "      <td>dict</td>\n",
       "    </tr>\n",
       "    <tr>\n",
       "      <th>3</th>\n",
       "      <td>Coleção</td>\n",
       "      <td>set, fronzenset</td>\n",
       "    </tr>\n",
       "    <tr>\n",
       "      <th>4</th>\n",
       "      <td>Booleano</td>\n",
       "      <td>bool</td>\n",
       "    </tr>\n",
       "    <tr>\n",
       "      <th>5</th>\n",
       "      <td>Binário</td>\n",
       "      <td>bytes, bytearray, memoryview</td>\n",
       "    </tr>\n",
       "  </tbody>\n",
       "</table>\n",
       "</div>"
      ],
      "text/plain": [
       "  Informação                         Tipos\n",
       "0   Numérico           int, float, complex\n",
       "1  Sequência            list, tuple, range\n",
       "2       Mapa                          dict\n",
       "3    Coleção               set, fronzenset\n",
       "4   Booleano                          bool\n",
       "5    Binário  bytes, bytearray, memoryview"
      ]
     },
     "metadata": {},
     "output_type": "display_data"
    }
   ],
   "source": [
    "import pandas as pd\n",
    "\n",
    "dados = {'Informação':['Numérico', 'Sequência', 'Mapa', 'Coleção', 'Booleano', 'Binário'],\n",
    "         'Tipos': ['int, float, complex', 'list, tuple, range', 'dict', 'set, fronzenset', 'bool', 'bytes, bytearray, memoryview'], \n",
    "         }\n",
    "tabela = pd.DataFrame(dados)\n",
    "\n",
    "display(tabela)"
   ]
  },
  {
   "cell_type": "markdown",
   "id": "d8e139df",
   "metadata": {},
   "source": [
    "# Variáveis e constantes\n",
    "\n",
    "## Variáveis\n",
    "\n",
    "Diferente de linguagens de programação como Java, que possui tipagem estática, Python possui uma tipagem dinâmica, não havendo a necessidade de informar o tipo da variável antes de seu nome."
   ]
  },
  {
   "cell_type": "code",
   "execution_count": 9,
   "id": "6dbd62b1",
   "metadata": {},
   "outputs": [],
   "source": [
    "# A variável 'idade' é criada e tem o tipo inteiro\n",
    "idade = 30\n",
    "\n",
    "# A variável 'nome' é criada e tem o tipo string\n",
    "nome = \"João\"\n",
    "\n",
    "# A mesma variável pode receber um tipo diferente posteriormente\n",
    "nome = 35  # Agora 'nome' aponta para um número inteiro\n"
   ]
  },
  {
   "cell_type": "markdown",
   "id": "9cef9176",
   "metadata": {},
   "source": [
    "## Constantes\n",
    "\n",
    "Assim como as variáveis, constantes são utilizadas para armazenar valores. Uma constante nasce com um valor e permanece com ele até o final da execução do programa, ou seja, o valor é imutável.\n",
    "\n",
    "Infelizmente, em python não existe uma palavra reservada para definir valores contrantes, dito isso, existe uma _convenção_ em python para definir constantes.\n",
    "\n",
    "Essa convenção seria escrever o nome da variável em maiúsculo."
   ]
  },
  {
   "cell_type": "code",
   "execution_count": 10,
   "id": "7ecefaf6",
   "metadata": {},
   "outputs": [],
   "source": [
    "# Exemplos de constantes em python\n",
    "ABS_PATH = '/home/user/Documents/python'\n",
    "DEBUG = True\n",
    "STATES = [\n",
    "    'SP',\n",
    "    'RJ',\n",
    "    'MG'\n",
    "]\n",
    "AMOUNT = 30.2"
   ]
  },
  {
   "cell_type": "markdown",
   "id": "3b151856",
   "metadata": {},
   "source": [
    "# Boas práticas\n",
    "\n",
    "- O padrão de nomes deve ser *snake_case*\n",
    "- Escolher nomes sugestivos\n",
    "- Nome de constantes todo em maiúsculo"
   ]
  },
  {
   "cell_type": "markdown",
   "id": "78f14b32",
   "metadata": {},
   "source": [
    "# Conversão de tipos em python\n",
    "\n",
    "Em alguns momentos é necessário converter o tipo de uma variável para manipular de forma diferente.  \n",
    "Por exemplo:\n",
    "\n",
    "Variáveis do tipo _String_, que armazenam números e precisamos fazer alguma opração matemática com esse valor."
   ]
  },
  {
   "cell_type": "code",
   "execution_count": 8,
   "id": "fed869a4",
   "metadata": {},
   "outputs": [
    {
     "name": "stdout",
     "output_type": "stream",
     "text": [
      "10\n",
      "10.0\n",
      "10\n",
      "28\n",
      "idade 28, preço 10\n"
     ]
    }
   ],
   "source": [
    "preco = 10\n",
    "saida = print(preco)\n",
    "# >>> 10\n",
    "\n",
    "preco = float(preco)\n",
    "print(preco)\n",
    "# >>> 10.0\n",
    "\n",
    "preco = 10.30\n",
    "preco = int(preco)\n",
    "print(preco)\n",
    "# >>> 10\n",
    "\n",
    "# para converter tipo numérico para String usa-se str()\n",
    "\n",
    "idade = 28\n",
    "print(str(idade))\n",
    "# >>> 28\n",
    "\n",
    "texto = f\"idade {idade}, preço {preco}\"\n",
    "print(texto)\n",
    "# >>> idade 28 preço 10"
   ]
  },
  {
   "cell_type": "markdown",
   "id": "adf47cf1",
   "metadata": {},
   "source": [
    "# Funções de entrada e saída\n",
    "\n",
    "## Lendo valores com a função _input()_\n",
    "\n",
    "A função builtin _input()_ é utilizada quando queremosler dados da entrada padrão (teclado). Ela recebe um argumento do tipo String, que é exibido para o usuário na saída padrão (tela), A função lê a entrada, converte para String e retorna o valor."
   ]
  },
  {
   "cell_type": "code",
   "execution_count": null,
   "id": "85afe825",
   "metadata": {},
   "outputs": [],
   "source": [
    "nome = input(\"Informe seu nome: \")\n",
    "# >>> Informe seu nome: "
   ]
  },
  {
   "cell_type": "markdown",
   "id": "e6db2cb7",
   "metadata": {},
   "source": [
    "## Função _print()_\n",
    "\n",
    "A função _print()_ é utilizada quando queremos exibir dados na saída padrão (tela). Ela recebe um argumento obrigatório do tipo _varargs_ de objetos e 4 argumentos opcionais (sep, end, file e flush). Todos os objetos são convertidos para String, separados por _sep_ e terminados em _end_. A String final é exibida para o usuário."
   ]
  },
  {
   "cell_type": "code",
   "execution_count": null,
   "id": "ddf8944b",
   "metadata": {},
   "outputs": [
    {
     "name": "stdout",
     "output_type": "stream",
     "text": [
      "Guilherme Carvalho\n",
      "Guilherme Carvalho...\n",
      "Guilherme#Carvalho\n"
     ]
    }
   ],
   "source": [
    "nome = \"Guilherme\"\n",
    "sobrenome = \"Carvalho\"\n",
    "\n",
    "print(nome, sobrenome)\n",
    "print(nome, sobrenome, end=\"...\\n\")\n",
    "print(nome, sobrenome, sep=\"#\")\n",
    "\n",
    "with open(\"saida.txt\", 'w') as f:\n",
    "    print(nome, sobrenome, sep=\"#\", file=f)"
   ]
  }
 ],
 "metadata": {
  "kernelspec": {
   "display_name": "Python 3",
   "language": "python",
   "name": "python3"
  },
  "language_info": {
   "codemirror_mode": {
    "name": "ipython",
    "version": 3
   },
   "file_extension": ".py",
   "mimetype": "text/x-python",
   "name": "python",
   "nbconvert_exporter": "python",
   "pygments_lexer": "ipython3",
   "version": "3.13.7"
  }
 },
 "nbformat": 4,
 "nbformat_minor": 5
}
